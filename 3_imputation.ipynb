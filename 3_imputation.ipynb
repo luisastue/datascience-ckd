{
 "cells": [
  {
   "cell_type": "code",
   "execution_count": 1,
   "metadata": {},
   "outputs": [],
   "source": [
    "import os\n",
    "import numpy as np\n",
    "import pandas as pd\n",
    "import matplotlib.pyplot as plt\n",
    "import seaborn as sns\n",
    "\n",
    "from sklearn.model_selection import train_test_split\n",
    "from sklearn.tree import DecisionTreeClassifier, plot_tree\n",
    "from sklearn.ensemble import RandomForestClassifier\n",
    "from sklearn.metrics import  classification_report,  ConfusionMatrixDisplay\n",
    "from matplotlib.pylab import rcParams\n",
    "#!pip install liac-arff\n",
    "import arff"
   ]
  },
  {
   "cell_type": "code",
   "execution_count": 51,
   "metadata": {},
   "outputs": [],
   "source": [
    "df = pd.read_csv('preprocessed/df.csv')\n",
    "numeric = df.select_dtypes(include=np.number)\n",
    "categorical = df.select_dtypes(exclude=np.number)"
   ]
  },
  {
   "attachments": {},
   "cell_type": "markdown",
   "metadata": {},
   "source": [
    "# Missing values"
   ]
  },
  {
   "attachments": {},
   "cell_type": "markdown",
   "metadata": {},
   "source": [
    "## Identification of missing data"
   ]
  },
  {
   "attachments": {},
   "cell_type": "markdown",
   "metadata": {},
   "source": [
    "Categorical"
   ]
  },
  {
   "cell_type": "code",
   "execution_count": 4,
   "metadata": {},
   "outputs": [
    {
     "name": "stdout",
     "output_type": "stream",
     "text": [
      "rbc \t [nan 'normal' 'abnormal']\n",
      "pc \t ['normal' 'abnormal' nan]\n",
      "pcc \t ['notpresent' 'present' nan]\n",
      "ba \t ['notpresent' 'present' nan]\n",
      "htn \t ['yes' 'no' nan]\n",
      "dm \t ['yes' 'no' nan]\n",
      "cad \t ['no' 'yes' nan]\n",
      "appet \t ['good' 'poor' nan]\n",
      "pe \t ['no' 'yes' nan]\n",
      "ane \t ['no' 'yes' nan]\n",
      "class \t ['ckd' 'notckd']\n"
     ]
    }
   ],
   "source": [
    "def print_range_of_values(dataframe):\n",
    "    for col in dataframe.columns:\n",
    "        print(col, '\\t',dataframe[col].unique())\n",
    "\n",
    "print_range_of_values(categorical)"
   ]
  },
  {
   "attachments": {},
   "cell_type": "markdown",
   "metadata": {},
   "source": [
    "Numeric"
   ]
  },
  {
   "cell_type": "code",
   "execution_count": 6,
   "metadata": {},
   "outputs": [
    {
     "name": "stdout",
     "output_type": "stream",
     "text": [
      "Missing values for \"age\": []\n",
      "Missing values for \"bp\": []\n",
      "Missing values for \"sg\": []\n",
      "Missing values for \"al\": []\n",
      "Missing values for \"su\": []\n",
      "Missing values for \"bgr\": []\n",
      "Missing values for \"bu\": []\n",
      "Missing values for \"sc\": []\n",
      "Missing values for \"sod\": []\n",
      "Missing values for \"pot\": []\n",
      "Missing values for \"hemo\": []\n",
      "Missing values for \"pcv\": []\n",
      "Missing values for \"wbcc\": []\n",
      "Missing values for \"rbcc\": []\n"
     ]
    },
    {
     "name": "stderr",
     "output_type": "stream",
     "text": [
      "/var/folders/vm/fytkb5cj61z52wrzzwx9_gn00000gn/T/ipykernel_11721/2206696953.py:12: SettingWithCopyWarning: \n",
      "A value is trying to be set on a copy of a slice from a DataFrame\n",
      "\n",
      "See the caveats in the documentation: https://pandas.pydata.org/pandas-docs/stable/user_guide/indexing.html#returning-a-view-versus-a-copy\n",
      "  df[c][isMissing] = np.nan\n"
     ]
    }
   ],
   "source": [
    "for c in numeric.columns:\n",
    "    # Check missing values\n",
    "    missing_vals = []\n",
    "    for p in df[c]:\n",
    "        try: float(p)\n",
    "        except ValueError:\n",
    "            missing_vals += [p]\n",
    "    print(f'Missing values for \"{c}\":', np.unique(missing_vals))\n",
    "\n",
    "    # Replace missing values with NaNs\n",
    "    isMissing = np.in1d(df[c], missing_vals)\n",
    "    df[c][isMissing] = np.nan\n",
    "    df[c] = df[c].astype(float)\n"
   ]
  },
  {
   "attachments": {},
   "cell_type": "markdown",
   "metadata": {},
   "source": [
    "Nr of none values"
   ]
  },
  {
   "cell_type": "code",
   "execution_count": 7,
   "metadata": {},
   "outputs": [],
   "source": [
    "def get_nr_none(dataframe):\n",
    "    cols = []\n",
    "    for col in dataframe.columns:\n",
    "        total = len(df)\n",
    "        none = np.count_nonzero(dataframe[col].isnull().values)\n",
    "        ratio = none/total\n",
    "        cols.append((col, total, none, ratio))\n",
    "    return sorted(cols, key=lambda tup: tup[3], reverse=True)\n",
    "\n",
    "def print_nr_none(dataframe):\n",
    "    nr_none = get_nr_none(dataframe)\n",
    "    print('column \\t total \\t none \\t ratio')\n",
    "    for col, total, none, ratio in nr_none:\n",
    "        print(col, '\\t', total, '\\t', none, '\\t', ratio)"
   ]
  },
  {
   "cell_type": "code",
   "execution_count": 8,
   "metadata": {},
   "outputs": [
    {
     "name": "stdout",
     "output_type": "stream",
     "text": [
      "column \t total \t none \t ratio\n",
      "rbc \t 349 \t 149 \t 0.4269340974212034\n",
      "rbcc \t 349 \t 131 \t 0.3753581661891118\n",
      "wbcc \t 349 \t 106 \t 0.3037249283667622\n",
      "pot \t 349 \t 87 \t 0.2492836676217765\n",
      "sod \t 349 \t 86 \t 0.24641833810888253\n",
      "pcv \t 349 \t 70 \t 0.20057306590257878\n",
      "pc \t 349 \t 62 \t 0.17765042979942694\n",
      "hemo \t 349 \t 51 \t 0.14613180515759314\n",
      "su \t 349 \t 49 \t 0.14040114613180515\n",
      "sg \t 349 \t 47 \t 0.1346704871060172\n",
      "al \t 349 \t 46 \t 0.1318051575931232\n",
      "bgr \t 349 \t 43 \t 0.12320916905444126\n",
      "bu \t 349 \t 18 \t 0.05157593123209169\n",
      "sc \t 349 \t 17 \t 0.04871060171919771\n",
      "bp \t 349 \t 12 \t 0.034383954154727794\n",
      "age \t 349 \t 9 \t 0.025787965616045846\n",
      "pcc \t 349 \t 4 \t 0.011461318051575931\n",
      "ba \t 349 \t 4 \t 0.011461318051575931\n",
      "htn \t 349 \t 2 \t 0.0057306590257879654\n",
      "dm \t 349 \t 2 \t 0.0057306590257879654\n",
      "cad \t 349 \t 2 \t 0.0057306590257879654\n",
      "appet \t 349 \t 1 \t 0.0028653295128939827\n",
      "pe \t 349 \t 1 \t 0.0028653295128939827\n",
      "ane \t 349 \t 1 \t 0.0028653295128939827\n",
      "class \t 349 \t 0 \t 0.0\n"
     ]
    }
   ],
   "source": [
    "print_nr_none(df)"
   ]
  },
  {
   "attachments": {},
   "cell_type": "markdown",
   "metadata": {},
   "source": [
    "#### Summary\n",
    "- rbc (red blood cells [normal / abnormal]) has a missing value ratio of 43%\n",
    "- rbcc (red blood cell count (numerical)) has a missing value ratio of 38%\n",
    "- wbcc (white blood cell count) has a missing value ratio of 30%\n",
    "- pot, sod, pcv have missing value ratios between 20% and 25%\n",
    "- pc, hemo, su, sg, al, bgr have missing value ratios between 10% and 20%\n",
    "- the rest have a missing value ratio of less than 6%.  "
   ]
  },
  {
   "attachments": {},
   "cell_type": "markdown",
   "metadata": {},
   "source": [
    "## Removing NaN and None values by imputation\n",
    "Due to the high dimensionaltiy of our data, a visualization of the missing values and its impact on the dataset to find out the missing value mechanism is not feasible.\n",
    "\n",
    "To find out whether the missing values in this data set are MNAR, we would need to have measurements of some of the missing values. Since that is out of scope for our project, we assume that they are at least MAR. To be sure to have as little bias as possible, we will use multiple imputation methods to impute the missing values. We will use the mice package for this."
   ]
  },
  {
   "cell_type": "code",
   "execution_count": 53,
   "metadata": {},
   "outputs": [
    {
     "name": "stdout",
     "output_type": "stream",
     "text": [
      "column \t total \t none \t ratio\n",
      "age \t 349 \t 0 \t 0.0\n",
      "bp \t 349 \t 0 \t 0.0\n",
      "sg \t 349 \t 0 \t 0.0\n",
      "al \t 349 \t 0 \t 0.0\n",
      "su \t 349 \t 0 \t 0.0\n",
      "bgr \t 349 \t 0 \t 0.0\n",
      "bu \t 349 \t 0 \t 0.0\n",
      "sc \t 349 \t 0 \t 0.0\n",
      "sod \t 349 \t 0 \t 0.0\n",
      "pot \t 349 \t 0 \t 0.0\n",
      "hemo \t 349 \t 0 \t 0.0\n",
      "pcv \t 349 \t 0 \t 0.0\n",
      "wbcc \t 349 \t 0 \t 0.0\n",
      "rbcc \t 349 \t 0 \t 0.0\n"
     ]
    }
   ],
   "source": [
    "\n",
    "import statsmodels \n",
    "from statsmodels.imputation import mice\n",
    "\n",
    "imp = mice.MICEData(numeric)\n",
    "numeric_imputed = imp.data\n",
    "print_nr_none(numeric_imputed)\n"
   ]
  },
  {
   "cell_type": "code",
   "execution_count": 54,
   "metadata": {},
   "outputs": [
    {
     "data": {
      "text/html": [
       "<div>\n",
       "<style scoped>\n",
       "    .dataframe tbody tr th:only-of-type {\n",
       "        vertical-align: middle;\n",
       "    }\n",
       "\n",
       "    .dataframe tbody tr th {\n",
       "        vertical-align: top;\n",
       "    }\n",
       "\n",
       "    .dataframe thead th {\n",
       "        text-align: right;\n",
       "    }\n",
       "</style>\n",
       "<table border=\"1\" class=\"dataframe\">\n",
       "  <thead>\n",
       "    <tr style=\"text-align: right;\">\n",
       "      <th></th>\n",
       "      <th>rbc</th>\n",
       "      <th>pc</th>\n",
       "      <th>pcc</th>\n",
       "      <th>ba</th>\n",
       "      <th>htn</th>\n",
       "      <th>dm</th>\n",
       "      <th>cad</th>\n",
       "      <th>appet</th>\n",
       "      <th>pe</th>\n",
       "      <th>ane</th>\n",
       "      <th>class</th>\n",
       "    </tr>\n",
       "  </thead>\n",
       "  <tbody>\n",
       "    <tr>\n",
       "      <th>0</th>\n",
       "      <td>normal</td>\n",
       "      <td>normal</td>\n",
       "      <td>notpresent</td>\n",
       "      <td>notpresent</td>\n",
       "      <td>yes</td>\n",
       "      <td>yes</td>\n",
       "      <td>no</td>\n",
       "      <td>good</td>\n",
       "      <td>no</td>\n",
       "      <td>no</td>\n",
       "      <td>ckd</td>\n",
       "    </tr>\n",
       "    <tr>\n",
       "      <th>1</th>\n",
       "      <td>normal</td>\n",
       "      <td>normal</td>\n",
       "      <td>notpresent</td>\n",
       "      <td>notpresent</td>\n",
       "      <td>no</td>\n",
       "      <td>no</td>\n",
       "      <td>no</td>\n",
       "      <td>good</td>\n",
       "      <td>no</td>\n",
       "      <td>no</td>\n",
       "      <td>ckd</td>\n",
       "    </tr>\n",
       "    <tr>\n",
       "      <th>2</th>\n",
       "      <td>normal</td>\n",
       "      <td>normal</td>\n",
       "      <td>notpresent</td>\n",
       "      <td>notpresent</td>\n",
       "      <td>no</td>\n",
       "      <td>yes</td>\n",
       "      <td>no</td>\n",
       "      <td>poor</td>\n",
       "      <td>no</td>\n",
       "      <td>yes</td>\n",
       "      <td>ckd</td>\n",
       "    </tr>\n",
       "    <tr>\n",
       "      <th>3</th>\n",
       "      <td>normal</td>\n",
       "      <td>abnormal</td>\n",
       "      <td>present</td>\n",
       "      <td>notpresent</td>\n",
       "      <td>yes</td>\n",
       "      <td>no</td>\n",
       "      <td>no</td>\n",
       "      <td>poor</td>\n",
       "      <td>yes</td>\n",
       "      <td>yes</td>\n",
       "      <td>ckd</td>\n",
       "    </tr>\n",
       "    <tr>\n",
       "      <th>4</th>\n",
       "      <td>normal</td>\n",
       "      <td>normal</td>\n",
       "      <td>notpresent</td>\n",
       "      <td>notpresent</td>\n",
       "      <td>no</td>\n",
       "      <td>no</td>\n",
       "      <td>no</td>\n",
       "      <td>good</td>\n",
       "      <td>no</td>\n",
       "      <td>no</td>\n",
       "      <td>ckd</td>\n",
       "    </tr>\n",
       "    <tr>\n",
       "      <th>...</th>\n",
       "      <td>...</td>\n",
       "      <td>...</td>\n",
       "      <td>...</td>\n",
       "      <td>...</td>\n",
       "      <td>...</td>\n",
       "      <td>...</td>\n",
       "      <td>...</td>\n",
       "      <td>...</td>\n",
       "      <td>...</td>\n",
       "      <td>...</td>\n",
       "      <td>...</td>\n",
       "    </tr>\n",
       "    <tr>\n",
       "      <th>344</th>\n",
       "      <td>normal</td>\n",
       "      <td>normal</td>\n",
       "      <td>notpresent</td>\n",
       "      <td>notpresent</td>\n",
       "      <td>no</td>\n",
       "      <td>no</td>\n",
       "      <td>no</td>\n",
       "      <td>good</td>\n",
       "      <td>no</td>\n",
       "      <td>no</td>\n",
       "      <td>notckd</td>\n",
       "    </tr>\n",
       "    <tr>\n",
       "      <th>345</th>\n",
       "      <td>normal</td>\n",
       "      <td>normal</td>\n",
       "      <td>notpresent</td>\n",
       "      <td>notpresent</td>\n",
       "      <td>no</td>\n",
       "      <td>no</td>\n",
       "      <td>no</td>\n",
       "      <td>good</td>\n",
       "      <td>no</td>\n",
       "      <td>no</td>\n",
       "      <td>notckd</td>\n",
       "    </tr>\n",
       "    <tr>\n",
       "      <th>346</th>\n",
       "      <td>normal</td>\n",
       "      <td>normal</td>\n",
       "      <td>notpresent</td>\n",
       "      <td>notpresent</td>\n",
       "      <td>no</td>\n",
       "      <td>no</td>\n",
       "      <td>no</td>\n",
       "      <td>good</td>\n",
       "      <td>no</td>\n",
       "      <td>no</td>\n",
       "      <td>notckd</td>\n",
       "    </tr>\n",
       "    <tr>\n",
       "      <th>347</th>\n",
       "      <td>normal</td>\n",
       "      <td>normal</td>\n",
       "      <td>notpresent</td>\n",
       "      <td>notpresent</td>\n",
       "      <td>no</td>\n",
       "      <td>no</td>\n",
       "      <td>no</td>\n",
       "      <td>good</td>\n",
       "      <td>no</td>\n",
       "      <td>no</td>\n",
       "      <td>notckd</td>\n",
       "    </tr>\n",
       "    <tr>\n",
       "      <th>348</th>\n",
       "      <td>normal</td>\n",
       "      <td>normal</td>\n",
       "      <td>notpresent</td>\n",
       "      <td>notpresent</td>\n",
       "      <td>no</td>\n",
       "      <td>no</td>\n",
       "      <td>no</td>\n",
       "      <td>good</td>\n",
       "      <td>no</td>\n",
       "      <td>no</td>\n",
       "      <td>notckd</td>\n",
       "    </tr>\n",
       "  </tbody>\n",
       "</table>\n",
       "<p>349 rows × 11 columns</p>\n",
       "</div>"
      ],
      "text/plain": [
       "        rbc        pc         pcc          ba  htn   dm cad appet   pe  ane  \\\n",
       "0    normal    normal  notpresent  notpresent  yes  yes  no  good   no   no   \n",
       "1    normal    normal  notpresent  notpresent   no   no  no  good   no   no   \n",
       "2    normal    normal  notpresent  notpresent   no  yes  no  poor   no  yes   \n",
       "3    normal  abnormal     present  notpresent  yes   no  no  poor  yes  yes   \n",
       "4    normal    normal  notpresent  notpresent   no   no  no  good   no   no   \n",
       "..      ...       ...         ...         ...  ...  ...  ..   ...  ...  ...   \n",
       "344  normal    normal  notpresent  notpresent   no   no  no  good   no   no   \n",
       "345  normal    normal  notpresent  notpresent   no   no  no  good   no   no   \n",
       "346  normal    normal  notpresent  notpresent   no   no  no  good   no   no   \n",
       "347  normal    normal  notpresent  notpresent   no   no  no  good   no   no   \n",
       "348  normal    normal  notpresent  notpresent   no   no  no  good   no   no   \n",
       "\n",
       "      class  \n",
       "0       ckd  \n",
       "1       ckd  \n",
       "2       ckd  \n",
       "3       ckd  \n",
       "4       ckd  \n",
       "..      ...  \n",
       "344  notckd  \n",
       "345  notckd  \n",
       "346  notckd  \n",
       "347  notckd  \n",
       "348  notckd  \n",
       "\n",
       "[349 rows x 11 columns]"
      ]
     },
     "execution_count": 54,
     "metadata": {},
     "output_type": "execute_result"
    }
   ],
   "source": [
    "# Impute missing categorical\n",
    "# --> to do does this make sense? or should we also do multiple imputation? if so, how?\n",
    "\n",
    "from sklearn.impute import SimpleImputer\n",
    "# For categorical columns, use the most frequent value imputation method\n",
    "categorical_imputer = SimpleImputer(missing_values=np.nan, strategy='most_frequent')\n",
    "categorical_imputed = categorical.copy()\n",
    "categorical_imputed[categorical.columns] = categorical_imputer.fit_transform(categorical)\n",
    "\n",
    "categorical_imputed"
   ]
  },
  {
   "cell_type": "code",
   "execution_count": 57,
   "metadata": {},
   "outputs": [
    {
     "name": "stdout",
     "output_type": "stream",
     "text": [
      "column \t total \t none \t ratio\n",
      "age \t 349 \t 0 \t 0.0\n",
      "bp \t 349 \t 0 \t 0.0\n",
      "sg \t 349 \t 0 \t 0.0\n",
      "al \t 349 \t 0 \t 0.0\n",
      "su \t 349 \t 0 \t 0.0\n",
      "rbc \t 349 \t 0 \t 0.0\n",
      "pc \t 349 \t 0 \t 0.0\n",
      "pcc \t 349 \t 0 \t 0.0\n",
      "ba \t 349 \t 0 \t 0.0\n",
      "bgr \t 349 \t 0 \t 0.0\n",
      "bu \t 349 \t 0 \t 0.0\n",
      "sc \t 349 \t 0 \t 0.0\n",
      "sod \t 349 \t 0 \t 0.0\n",
      "pot \t 349 \t 0 \t 0.0\n",
      "hemo \t 349 \t 0 \t 0.0\n",
      "pcv \t 349 \t 0 \t 0.0\n",
      "wbcc \t 349 \t 0 \t 0.0\n",
      "rbcc \t 349 \t 0 \t 0.0\n",
      "htn \t 349 \t 0 \t 0.0\n",
      "dm \t 349 \t 0 \t 0.0\n",
      "cad \t 349 \t 0 \t 0.0\n",
      "appet \t 349 \t 0 \t 0.0\n",
      "pe \t 349 \t 0 \t 0.0\n",
      "ane \t 349 \t 0 \t 0.0\n",
      "class \t 349 \t 0 \t 0.0\n"
     ]
    }
   ],
   "source": [
    "df[categorical.columns] = categorical_imputed\n",
    "df[numeric.columns] = numeric_imputed\n",
    "df.to_csv('preprocessed/df_imputed.csv', index=False)  \n",
    "df_check = pd.read_csv('preprocessed/df_imputed.csv')\n",
    "print_nr_none(df_check)\n"
   ]
  }
 ],
 "metadata": {
  "kernelspec": {
   "display_name": "Python 3",
   "language": "python",
   "name": "python3"
  },
  "language_info": {
   "codemirror_mode": {
    "name": "ipython",
    "version": 3
   },
   "file_extension": ".py",
   "mimetype": "text/x-python",
   "name": "python",
   "nbconvert_exporter": "python",
   "pygments_lexer": "ipython3",
   "version": "3.11.2"
  },
  "orig_nbformat": 4
 },
 "nbformat": 4,
 "nbformat_minor": 2
}
