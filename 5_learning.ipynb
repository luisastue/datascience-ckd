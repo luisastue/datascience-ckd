{
 "cells": [
  {
   "attachments": {},
   "cell_type": "markdown",
   "metadata": {},
   "source": [
    "# Learning"
   ]
  },
  {
   "attachments": {},
   "cell_type": "markdown",
   "metadata": {},
   "source": [
    "In the following notebooks, we will perform different learning tasks:\n",
    "- decision tree\n",
    "- random forest\n",
    "- gradient boosting\n",
    "- logistic regression\n",
    "- knn\n",
    "- svm\n",
    "- neural network\n",
    "- bayesian network\n",
    "\n",
    "We will use the different imputation datasets and compare the performances using the following metrics:\n",
    "- accuracy\n",
    "- precision\n",
    "- recall\n",
    "- f1-score\n",
    "- confusion matrix\n",
    "- learning curve (accuracy and loss)\n",
    "- feature importance"
   ]
  },
  {
   "attachments": {},
   "cell_type": "markdown",
   "metadata": {},
   "source": []
  }
 ],
 "metadata": {
  "language_info": {
   "name": "python"
  },
  "orig_nbformat": 4
 },
 "nbformat": 4,
 "nbformat_minor": 2
}
