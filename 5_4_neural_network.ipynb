{
 "cells": [
  {
   "cell_type": "markdown",
   "source": [
    "# 1. Libraries"
   ],
   "metadata": {
    "collapsed": false,
    "id": "ZzH3i_Aed-mv"
   }
  },
  {
   "cell_type": "code",
   "execution_count": 88,
   "outputs": [],
   "source": [
    "import pandas as pd\n",
    "import numpy as np\n",
    "import torch\n",
    "import torch.nn as nn\n",
    "import torch.optim as optim\n",
    "from sklearn.model_selection import train_test_split\n",
    "from sklearn.metrics import confusion_matrix, classification_report, accuracy_score\n",
    "from sklearn.preprocessing import LabelEncoder, StandardScaler\n",
    "from torch.utils.data import Dataset, DataLoader\n",
    "import matplotlib.pyplot as plt\n"
   ],
   "metadata": {
    "id": "opq1L3Red-m0"
   }
  },
  {
   "cell_type": "markdown",
   "source": [
    "# 2. Preperation"
   ],
   "metadata": {
    "collapsed": false,
    "id": "qanNpVqdd-m2"
   }
  },
  {
   "cell_type": "code",
   "source": [
    "df = pd.read_csv('df_imputed.csv')\n",
    "df.dropna(inplace=True)\n",
    "df.head()"
   ],
   "metadata": {
    "colab": {
     "base_uri": "https://localhost:8080/",
     "height": 280
    },
    "id": "LN5K9gF3eNTW",
    "outputId": "58b0b62c-5017-4124-ea6f-2b565832e4e0"
   },
   "execution_count": 89,
   "outputs": [
    {
     "output_type": "execute_result",
     "data": {
      "text/plain": [
       "    age    bp     sg   al   su     rbc        pc         pcc          ba  \\\n",
       "0  48.0  80.0  1.020  1.0  0.0  normal    normal  notpresent  notpresent   \n",
       "1   7.0  50.0  1.020  4.0  0.0  normal    normal  notpresent  notpresent   \n",
       "2  62.0  80.0  1.010  2.0  3.0  normal    normal  notpresent  notpresent   \n",
       "3  48.0  70.0  1.005  4.0  0.0  normal  abnormal     present  notpresent   \n",
       "4  51.0  80.0  1.010  2.0  0.0  normal    normal  notpresent  notpresent   \n",
       "\n",
       "     bgr  ...   pcv    wbcc  rbcc  htn   dm  cad  appet   pe  ane class  \n",
       "0  121.0  ...  44.0  7800.0   5.2  yes  yes   no   good   no   no   ckd  \n",
       "1   94.0  ...  38.0  6000.0   4.3   no   no   no   good   no   no   ckd  \n",
       "2  423.0  ...  31.0  7500.0   4.2   no  yes   no   poor   no  yes   ckd  \n",
       "3  117.0  ...  32.0  6700.0   3.9  yes   no   no   poor  yes  yes   ckd  \n",
       "4  106.0  ...  35.0  7300.0   4.6   no   no   no   good   no   no   ckd  \n",
       "\n",
       "[5 rows x 25 columns]"
      ],
      "text/html": [
       "\n",
       "  <div id=\"df-09593349-26b3-48da-87d9-99a68eb6eeb4\">\n",
       "    <div class=\"colab-df-container\">\n",
       "      <div>\n",
       "<style scoped>\n",
       "    .dataframe tbody tr th:only-of-type {\n",
       "        vertical-align: middle;\n",
       "    }\n",
       "\n",
       "    .dataframe tbody tr th {\n",
       "        vertical-align: top;\n",
       "    }\n",
       "\n",
       "    .dataframe thead th {\n",
       "        text-align: right;\n",
       "    }\n",
       "</style>\n",
       "<table border=\"1\" class=\"dataframe\">\n",
       "  <thead>\n",
       "    <tr style=\"text-align: right;\">\n",
       "      <th></th>\n",
       "      <th>age</th>\n",
       "      <th>bp</th>\n",
       "      <th>sg</th>\n",
       "      <th>al</th>\n",
       "      <th>su</th>\n",
       "      <th>rbc</th>\n",
       "      <th>pc</th>\n",
       "      <th>pcc</th>\n",
       "      <th>ba</th>\n",
       "      <th>bgr</th>\n",
       "      <th>...</th>\n",
       "      <th>pcv</th>\n",
       "      <th>wbcc</th>\n",
       "      <th>rbcc</th>\n",
       "      <th>htn</th>\n",
       "      <th>dm</th>\n",
       "      <th>cad</th>\n",
       "      <th>appet</th>\n",
       "      <th>pe</th>\n",
       "      <th>ane</th>\n",
       "      <th>class</th>\n",
       "    </tr>\n",
       "  </thead>\n",
       "  <tbody>\n",
       "    <tr>\n",
       "      <th>0</th>\n",
       "      <td>48.0</td>\n",
       "      <td>80.0</td>\n",
       "      <td>1.020</td>\n",
       "      <td>1.0</td>\n",
       "      <td>0.0</td>\n",
       "      <td>normal</td>\n",
       "      <td>normal</td>\n",
       "      <td>notpresent</td>\n",
       "      <td>notpresent</td>\n",
       "      <td>121.0</td>\n",
       "      <td>...</td>\n",
       "      <td>44.0</td>\n",
       "      <td>7800.0</td>\n",
       "      <td>5.2</td>\n",
       "      <td>yes</td>\n",
       "      <td>yes</td>\n",
       "      <td>no</td>\n",
       "      <td>good</td>\n",
       "      <td>no</td>\n",
       "      <td>no</td>\n",
       "      <td>ckd</td>\n",
       "    </tr>\n",
       "    <tr>\n",
       "      <th>1</th>\n",
       "      <td>7.0</td>\n",
       "      <td>50.0</td>\n",
       "      <td>1.020</td>\n",
       "      <td>4.0</td>\n",
       "      <td>0.0</td>\n",
       "      <td>normal</td>\n",
       "      <td>normal</td>\n",
       "      <td>notpresent</td>\n",
       "      <td>notpresent</td>\n",
       "      <td>94.0</td>\n",
       "      <td>...</td>\n",
       "      <td>38.0</td>\n",
       "      <td>6000.0</td>\n",
       "      <td>4.3</td>\n",
       "      <td>no</td>\n",
       "      <td>no</td>\n",
       "      <td>no</td>\n",
       "      <td>good</td>\n",
       "      <td>no</td>\n",
       "      <td>no</td>\n",
       "      <td>ckd</td>\n",
       "    </tr>\n",
       "    <tr>\n",
       "      <th>2</th>\n",
       "      <td>62.0</td>\n",
       "      <td>80.0</td>\n",
       "      <td>1.010</td>\n",
       "      <td>2.0</td>\n",
       "      <td>3.0</td>\n",
       "      <td>normal</td>\n",
       "      <td>normal</td>\n",
       "      <td>notpresent</td>\n",
       "      <td>notpresent</td>\n",
       "      <td>423.0</td>\n",
       "      <td>...</td>\n",
       "      <td>31.0</td>\n",
       "      <td>7500.0</td>\n",
       "      <td>4.2</td>\n",
       "      <td>no</td>\n",
       "      <td>yes</td>\n",
       "      <td>no</td>\n",
       "      <td>poor</td>\n",
       "      <td>no</td>\n",
       "      <td>yes</td>\n",
       "      <td>ckd</td>\n",
       "    </tr>\n",
       "    <tr>\n",
       "      <th>3</th>\n",
       "      <td>48.0</td>\n",
       "      <td>70.0</td>\n",
       "      <td>1.005</td>\n",
       "      <td>4.0</td>\n",
       "      <td>0.0</td>\n",
       "      <td>normal</td>\n",
       "      <td>abnormal</td>\n",
       "      <td>present</td>\n",
       "      <td>notpresent</td>\n",
       "      <td>117.0</td>\n",
       "      <td>...</td>\n",
       "      <td>32.0</td>\n",
       "      <td>6700.0</td>\n",
       "      <td>3.9</td>\n",
       "      <td>yes</td>\n",
       "      <td>no</td>\n",
       "      <td>no</td>\n",
       "      <td>poor</td>\n",
       "      <td>yes</td>\n",
       "      <td>yes</td>\n",
       "      <td>ckd</td>\n",
       "    </tr>\n",
       "    <tr>\n",
       "      <th>4</th>\n",
       "      <td>51.0</td>\n",
       "      <td>80.0</td>\n",
       "      <td>1.010</td>\n",
       "      <td>2.0</td>\n",
       "      <td>0.0</td>\n",
       "      <td>normal</td>\n",
       "      <td>normal</td>\n",
       "      <td>notpresent</td>\n",
       "      <td>notpresent</td>\n",
       "      <td>106.0</td>\n",
       "      <td>...</td>\n",
       "      <td>35.0</td>\n",
       "      <td>7300.0</td>\n",
       "      <td>4.6</td>\n",
       "      <td>no</td>\n",
       "      <td>no</td>\n",
       "      <td>no</td>\n",
       "      <td>good</td>\n",
       "      <td>no</td>\n",
       "      <td>no</td>\n",
       "      <td>ckd</td>\n",
       "    </tr>\n",
       "  </tbody>\n",
       "</table>\n",
       "<p>5 rows × 25 columns</p>\n",
       "</div>\n",
       "      <button class=\"colab-df-convert\" onclick=\"convertToInteractive('df-09593349-26b3-48da-87d9-99a68eb6eeb4')\"\n",
       "              title=\"Convert this dataframe to an interactive table.\"\n",
       "              style=\"display:none;\">\n",
       "        \n",
       "  <svg xmlns=\"http://www.w3.org/2000/svg\" height=\"24px\"viewBox=\"0 0 24 24\"\n",
       "       width=\"24px\">\n",
       "    <path d=\"M0 0h24v24H0V0z\" fill=\"none\"/>\n",
       "    <path d=\"M18.56 5.44l.94 2.06.94-2.06 2.06-.94-2.06-.94-.94-2.06-.94 2.06-2.06.94zm-11 1L8.5 8.5l.94-2.06 2.06-.94-2.06-.94L8.5 2.5l-.94 2.06-2.06.94zm10 10l.94 2.06.94-2.06 2.06-.94-2.06-.94-.94-2.06-.94 2.06-2.06.94z\"/><path d=\"M17.41 7.96l-1.37-1.37c-.4-.4-.92-.59-1.43-.59-.52 0-1.04.2-1.43.59L10.3 9.45l-7.72 7.72c-.78.78-.78 2.05 0 2.83L4 21.41c.39.39.9.59 1.41.59.51 0 1.02-.2 1.41-.59l7.78-7.78 2.81-2.81c.8-.78.8-2.07 0-2.86zM5.41 20L4 18.59l7.72-7.72 1.47 1.35L5.41 20z\"/>\n",
       "  </svg>\n",
       "      </button>\n",
       "      \n",
       "  <style>\n",
       "    .colab-df-container {\n",
       "      display:flex;\n",
       "      flex-wrap:wrap;\n",
       "      gap: 12px;\n",
       "    }\n",
       "\n",
       "    .colab-df-convert {\n",
       "      background-color: #E8F0FE;\n",
       "      border: none;\n",
       "      border-radius: 50%;\n",
       "      cursor: pointer;\n",
       "      display: none;\n",
       "      fill: #1967D2;\n",
       "      height: 32px;\n",
       "      padding: 0 0 0 0;\n",
       "      width: 32px;\n",
       "    }\n",
       "\n",
       "    .colab-df-convert:hover {\n",
       "      background-color: #E2EBFA;\n",
       "      box-shadow: 0px 1px 2px rgba(60, 64, 67, 0.3), 0px 1px 3px 1px rgba(60, 64, 67, 0.15);\n",
       "      fill: #174EA6;\n",
       "    }\n",
       "\n",
       "    [theme=dark] .colab-df-convert {\n",
       "      background-color: #3B4455;\n",
       "      fill: #D2E3FC;\n",
       "    }\n",
       "\n",
       "    [theme=dark] .colab-df-convert:hover {\n",
       "      background-color: #434B5C;\n",
       "      box-shadow: 0px 1px 3px 1px rgba(0, 0, 0, 0.15);\n",
       "      filter: drop-shadow(0px 1px 2px rgba(0, 0, 0, 0.3));\n",
       "      fill: #FFFFFF;\n",
       "    }\n",
       "  </style>\n",
       "\n",
       "      <script>\n",
       "        const buttonEl =\n",
       "          document.querySelector('#df-09593349-26b3-48da-87d9-99a68eb6eeb4 button.colab-df-convert');\n",
       "        buttonEl.style.display =\n",
       "          google.colab.kernel.accessAllowed ? 'block' : 'none';\n",
       "\n",
       "        async function convertToInteractive(key) {\n",
       "          const element = document.querySelector('#df-09593349-26b3-48da-87d9-99a68eb6eeb4');\n",
       "          const dataTable =\n",
       "            await google.colab.kernel.invokeFunction('convertToInteractive',\n",
       "                                                     [key], {});\n",
       "          if (!dataTable) return;\n",
       "\n",
       "          const docLinkHtml = 'Like what you see? Visit the ' +\n",
       "            '<a target=\"_blank\" href=https://colab.research.google.com/notebooks/data_table.ipynb>data table notebook</a>'\n",
       "            + ' to learn more about interactive tables.';\n",
       "          element.innerHTML = '';\n",
       "          dataTable['output_type'] = 'display_data';\n",
       "          await google.colab.output.renderOutput(dataTable, element);\n",
       "          const docLink = document.createElement('div');\n",
       "          docLink.innerHTML = docLinkHtml;\n",
       "          element.appendChild(docLink);\n",
       "        }\n",
       "      </script>\n",
       "    </div>\n",
       "  </div>\n",
       "  "
      ]
     },
     "metadata": {},
     "execution_count": 89
    }
   ]
  },
  {
   "cell_type": "code",
   "execution_count": 90,
   "outputs": [
    {
     "output_type": "stream",
     "name": "stdout",
     "text": [
      "<class 'pandas.core.frame.DataFrame'>\n",
      "RangeIndex: 349 entries, 0 to 348\n",
      "Data columns (total 25 columns):\n",
      " #   Column  Non-Null Count  Dtype  \n",
      "---  ------  --------------  -----  \n",
      " 0   age     349 non-null    float64\n",
      " 1   bp      349 non-null    float64\n",
      " 2   sg      349 non-null    float64\n",
      " 3   al      349 non-null    float64\n",
      " 4   su      349 non-null    float64\n",
      " 5   rbc     349 non-null    object \n",
      " 6   pc      349 non-null    object \n",
      " 7   pcc     349 non-null    object \n",
      " 8   ba      349 non-null    object \n",
      " 9   bgr     349 non-null    float64\n",
      " 10  bu      349 non-null    float64\n",
      " 11  sc      349 non-null    float64\n",
      " 12  sod     349 non-null    float64\n",
      " 13  pot     349 non-null    float64\n",
      " 14  hemo    349 non-null    float64\n",
      " 15  pcv     349 non-null    float64\n",
      " 16  wbcc    349 non-null    float64\n",
      " 17  rbcc    349 non-null    float64\n",
      " 18  htn     349 non-null    object \n",
      " 19  dm      349 non-null    object \n",
      " 20  cad     349 non-null    object \n",
      " 21  appet   349 non-null    object \n",
      " 22  pe      349 non-null    object \n",
      " 23  ane     349 non-null    object \n",
      " 24  class   349 non-null    object \n",
      "dtypes: float64(14), object(11)\n",
      "memory usage: 68.3+ KB\n",
      "None\n"
     ]
    }
   ],
   "source": [
    "categorical = df.select_dtypes(exclude=np.number)\n",
    "a = df.info(verbose=True)\n",
    "\n",
    "print(a)"
   ],
   "metadata": {
    "colab": {
     "base_uri": "https://localhost:8080/"
    },
    "id": "0YNSlaUfd-m2",
    "outputId": "b04b5993-b330-48d2-fffd-3f0cf45088bc"
   }
  },
  {
   "cell_type": "code",
   "execution_count": 91,
   "outputs": [],
   "source": [
    "# Preprocessing\n",
    "# Convert categorical features to numerical features\n",
    "label_encoders = {}\n",
    "for cat_col in df.select_dtypes(include=['object']).columns:\n",
    "    label_encoders[cat_col] = LabelEncoder()\n",
    "    df[cat_col] = label_encoders[cat_col].fit_transform(df[cat_col])\n",
    "\n",
    "# Standardize numerical features\n",
    "scaler = StandardScaler()\n",
    "df[df.select_dtypes(include=['float64']).columns] = scaler.fit_transform(df[df.select_dtypes(include=['float64']).columns])\n"
   ],
   "metadata": {
    "id": "DPhwEMskd-m3"
   }
  },
  {
   "cell_type": "code",
   "execution_count": 92,
   "outputs": [
    {
     "output_type": "stream",
     "name": "stdout",
     "text": [
      "<class 'pandas.core.frame.DataFrame'>\n",
      "RangeIndex: 349 entries, 0 to 348\n",
      "Data columns (total 37 columns):\n",
      " #   Column          Non-Null Count  Dtype  \n",
      "---  ------          --------------  -----  \n",
      " 0   age             349 non-null    float64\n",
      " 1   bp              349 non-null    float64\n",
      " 2   sg              349 non-null    float64\n",
      " 3   al              349 non-null    float64\n",
      " 4   su              349 non-null    float64\n",
      " 5   bgr             349 non-null    float64\n",
      " 6   bu              349 non-null    float64\n",
      " 7   sc              349 non-null    float64\n",
      " 8   sod             349 non-null    float64\n",
      " 9   pot             349 non-null    float64\n",
      " 10  hemo            349 non-null    float64\n",
      " 11  pcv             349 non-null    float64\n",
      " 12  wbcc            349 non-null    float64\n",
      " 13  rbcc            349 non-null    float64\n",
      " 14  rbc_abnormal    349 non-null    uint8  \n",
      " 15  rbc_normal      349 non-null    uint8  \n",
      " 16  pc_abnormal     349 non-null    uint8  \n",
      " 17  pc_normal       349 non-null    uint8  \n",
      " 18  pcc_notpresent  349 non-null    uint8  \n",
      " 19  pcc_present     349 non-null    uint8  \n",
      " 20  ba_notpresent   349 non-null    uint8  \n",
      " 21  ba_present      349 non-null    uint8  \n",
      " 22  htn_no          349 non-null    uint8  \n",
      " 23  htn_yes         349 non-null    uint8  \n",
      " 24  dm_no           349 non-null    uint8  \n",
      " 25  dm_yes          349 non-null    uint8  \n",
      " 26  cad_no          349 non-null    uint8  \n",
      " 27  cad_yes         349 non-null    uint8  \n",
      " 28  appet_good      349 non-null    uint8  \n",
      " 29  appet_poor      349 non-null    uint8  \n",
      " 30  pe_no           349 non-null    uint8  \n",
      " 31  pe_yes          349 non-null    uint8  \n",
      " 32  ane_no          349 non-null    uint8  \n",
      " 33  ane_yes         349 non-null    uint8  \n",
      " 34  class_ckd       349 non-null    uint8  \n",
      " 35  class_notckd    349 non-null    uint8  \n",
      " 36  target          349 non-null    uint8  \n",
      "dtypes: float64(14), uint8(23)\n",
      "memory usage: 46.1 KB\n",
      "None\n"
     ]
    }
   ],
   "source": [
    "a = df_encoded.info(verbose=True)\n",
    "\n",
    "print(a)"
   ],
   "metadata": {
    "colab": {
     "base_uri": "https://localhost:8080/"
    },
    "id": "l3NyJHAjd-m3",
    "outputId": "73769a6c-7566-403c-e7cf-98d29e8cd0a8"
   }
  },
  {
   "cell_type": "code",
   "execution_count": 93,
   "outputs": [],
   "source": [
    "\n",
    "# Split data into training, validation and testing sets\n",
    "train_df, temp_df = train_test_split(df, test_size=0.3, random_state=42)\n",
    "val_df, test_df = train_test_split(temp_df, test_size=0.5, random_state=42)\n",
    "\n",
    "class CKDDataset(Dataset):\n",
    "    def __init__(self, data):\n",
    "        self.data = torch.tensor(data.drop(columns='class').values, dtype=torch.float32)\n",
    "        self.targets = torch.tensor(data['class'].values, dtype=torch.long)\n",
    "\n",
    "    def __len__(self):\n",
    "        return len(self.data)\n",
    "\n",
    "    def __getitem__(self, idx):\n",
    "        return self.data[idx], self.targets[idx]\n",
    "\n",
    "# Create DataLoaders\n",
    "train_dataset = CKDDataset(train_df)\n",
    "train_loader = DataLoader(train_dataset, batch_size=16)\n",
    "\n",
    "val_dataset = CKDDataset(val_df)\n",
    "val_loader = DataLoader(val_dataset, batch_size=16)\n",
    "\n",
    "test_dataset = CKDDataset(test_df)\n",
    "test_loader = DataLoader(test_dataset, batch_size=16)"
   ],
   "metadata": {
    "id": "5fAcxEg9d-m4"
   }
  },
  {
   "cell_type": "markdown",
   "source": [
    "# 3. Model Creation"
   ],
   "metadata": {
    "collapsed": false,
    "id": "XprshYxFd-m4"
   }
  },
  {
   "cell_type": "code",
   "execution_count": 94,
   "outputs": [],
   "source": [
    "# Define the network architecture\n",
    "class Net(nn.Module):  # We define our model as a subclass of torch.nn.Module.\n",
    "    def __init__(self):  # This is the constructor of our class where we define our layers.\n",
    "        super(Net, self).__init__()  # We call the constructor of the superclass (nn.Module) to initialize it.\n",
    "\n",
    "        # Define fully connected layers (fc stands for fully connected). \n",
    "        # nn.Linear is a standard linear (affine) layer with weights and bias. \n",
    "\n",
    "        self.fc1 = nn.Linear(24, 24)  # First layer takes 24 inputs (this should be equal to the number of features in your data) and outputs 128 features.\n",
    "        self.fc2 = nn.Linear(24, 24)  # Second layer takes 128 inputs (from previous layer) and outputs 64 features.\n",
    "        self.fc3 = nn.Linear(24, 2)  # Third layer takes 64 inputs (from previous layer) and outputs 2 features (this should be equal to the number of classes in your data).\n",
    "\n",
    "    def forward(self, x):  # This method defines the forward pass of the network. PyTorch will automatically create the backward pass for you.\n",
    "        x = torch.relu(self.fc1(x))  # Apply the first layer to the input, then apply the ReLU activation function.\n",
    "        x = torch.relu(self.fc2(x))  # Apply the second layer to the result of the previous operation, then apply the ReLU activation function.\n",
    "        x = self.fc3(x)  # Apply the third layer to the result of the previous operation. Note we don't apply an activation here because it's included in the CrossEntropyLoss function.\n",
    "        return x  # The result of the last operation is returned as the output of the network.\n"
   ],
   "metadata": {
    "id": "twl8A68Wd-m5"
   }
  },
  {
   "cell_type": "code",
   "source": [
    "# Initialize the model, optimizer, and loss function\n",
    "model = Net()\n",
    "optimizer = optim.Adam(model.parameters(), lr=0.001)\n",
    "criterion = nn.CrossEntropyLoss()"
   ],
   "metadata": {
    "id": "snX8mAbLjWAv"
   },
   "execution_count": 95,
   "outputs": []
  },
  {
   "cell_type": "markdown",
   "source": [
    "# 4. Training"
   ],
   "metadata": {
    "collapsed": false,
    "id": "9z3IHt0gd-m5"
   }
  },
  {
   "cell_type": "code",
   "execution_count": 96,
   "outputs": [
    {
     "output_type": "stream",
     "name": "stdout",
     "text": [
      "Epoch 1/3, Train Loss: 0.041, Validation Loss: 0.047, Train Accuracy: 0.881, Validation Accuracy: 0.846\n",
      "Epoch 2/3, Train Loss: 0.036, Validation Loss: 0.042, Train Accuracy: 0.955, Validation Accuracy: 0.942\n",
      "Epoch 3/3, Train Loss: 0.031, Validation Loss: 0.035, Train Accuracy: 0.971, Validation Accuracy: 0.942\n"
     ]
    }
   ],
   "source": [
    "# Training\n",
    "n_epochs = 3\n",
    "train_losses = []\n",
    "val_losses = []\n",
    "train_accuracies = []\n",
    "val_accuracies = []\n",
    "\n",
    "for epoch in range(n_epochs):\n",
    "    train_loss = 0\n",
    "    val_loss = 0\n",
    "    train_correct = 0\n",
    "    val_correct = 0\n",
    "    model.train()\n",
    "    for inputs, targets in train_loader:\n",
    "        optimizer.zero_grad()\n",
    "        outputs = model(inputs)\n",
    "        _, predicted = torch.max(outputs.data, 1)\n",
    "        train_correct += (predicted == targets).sum().item()\n",
    "        loss = criterion(outputs, targets)\n",
    "        loss.backward()\n",
    "        optimizer.step()\n",
    "        train_loss += loss.item()\n",
    "\n",
    "    # The model is set to evaluation mode. In this mode, operations such as dropout are disabled.\n",
    "    model.eval()\n",
    "\n",
    "    # Disable gradient computations (they are not needed in evaluation mode and consume memory)\n",
    "    with torch.no_grad():\n",
    "        # Iterate over the validation set\n",
    "        for inputs, targets in val_loader:\n",
    "            # Generate predictions by passing the inputs through the model\n",
    "            outputs = model(inputs)\n",
    "            # The output of the model is a vector of logits for each class. To get the predicted class, we find the index (class) with the maximum logit.\n",
    "            _, predicted = torch.max(outputs.data, 1)\n",
    "            # Compare the predictions to the true labels, the sum of the comparisons gives the number of correct predictions\n",
    "            val_correct += (predicted == targets).sum().item()\n",
    "            # Compute the loss for this batch\n",
    "            loss = criterion(outputs, targets)\n",
    "            # Add the loss to the total validation loss (we'll take the average later)\n",
    "            val_loss += loss.item()\n",
    "\n",
    "    # The total losses stored were summed over all batches. To get the average loss per item, we divide by the total number of items.\n",
    "    # The same applies for the accuracy. We divide the number of correct predictions by the total number of items to get the accuracy.\n",
    "    train_loss /= len(train_dataset)\n",
    "    val_loss /= len(val_dataset)\n",
    "    train_acc = train_correct / len(train_dataset)\n",
    "    val_acc = val_correct / len(val_dataset)\n",
    "\n",
    "    # Store the average losses and accuracies for plotting\n",
    "    train_losses.append(train_loss)\n",
    "    val_losses.append(val_loss)\n",
    "    train_accuracies.append(train_acc)\n",
    "    val_accuracies.append(val_acc)\n",
    "\n",
    "    # Print the losses and accuracies for this epoch\n",
    "    print(f'Epoch {epoch+1}/{n_epochs}, Train Loss: {train_loss:.3f}, Validation Loss: {val_loss:.3f}, Train Accuracy: {train_acc:.3f}, Validation Accuracy: {val_acc:.3f}')\n",
    "   "
   ],
   "metadata": {
    "id": "SZdlGjvQd-m5",
    "colab": {
     "base_uri": "https://localhost:8080/"
    },
    "outputId": "cae70e27-d1e5-4477-c739-73ca6e11b32d"
   }
  },
  {
   "cell_type": "markdown",
   "source": [
    "# 5. Evaluation"
   ],
   "metadata": {
    "collapsed": false,
    "id": "ILdMVq58d-m6"
   }
  },
  {
   "cell_type": "code",
   "execution_count": 97,
   "outputs": [
    {
     "output_type": "stream",
     "name": "stdout",
     "text": [
      "[[33  3]\n",
      " [ 0 16]]\n",
      "              precision    recall  f1-score   support\n",
      "\n",
      "         ckd       1.00      0.92      0.96        36\n",
      "      notckd       0.84      1.00      0.91        16\n",
      "\n",
      "    accuracy                           0.94        52\n",
      "   macro avg       0.92      0.96      0.94        52\n",
      "weighted avg       0.95      0.94      0.94        52\n",
      "\n"
     ]
    }
   ],
   "source": [
    "# Evaluation\n",
    "model.eval()\n",
    "predictions = []\n",
    "true_labels = []\n",
    "with torch.no_grad():\n",
    "    for inputs, targets in val_loader:\n",
    "        outputs = model(inputs)\n",
    "        _, predicted = torch.max(outputs.data, 1)\n",
    "        predictions += list(predicted.numpy())\n",
    "        true_labels += list(targets.numpy())\n",
    "\n",
    "# Compute evaluation metrics\n",
    "print(confusion_matrix(true_labels, predictions))\n",
    "print(classification_report(true_labels, predictions, target_names=['ckd', 'notckd']))"
   ],
   "metadata": {
    "colab": {
     "base_uri": "https://localhost:8080/"
    },
    "id": "llu5x3mVd-m6",
    "outputId": "f3db2c9f-f23d-4531-c9bd-361978bd2cf5"
   }
  },
  {
   "cell_type": "markdown",
   "source": [
    "# 6. Visualizing the performance"
   ],
   "metadata": {
    "collapsed": false,
    "id": "IJVCmQYed-m6"
   }
  },
  {
   "cell_type": "code",
   "execution_count": 98,
   "outputs": [
    {
     "output_type": "display_data",
     "data": {
      "text/plain": [
       "<Figure size 1000x500 with 1 Axes>"
      ],
      "image/png": "[encoded data removed]"
     },
     "metadata": {}
    }
   ],
   "source": [
    "# Plot training and validation loss\n",
    "plt.figure(figsize=(10, 5))\n",
    "plt.title(\"Training and Validation Loss\")\n",
    "plt.plot(val_losses, label=\"val\")\n",
    "plt.plot(train_losses, label=\"train\")\n",
    "plt.xlabel(\"Epochs\")\n",
    "plt.ylabel(\"Loss\")\n",
    "plt.legend()\n",
    "plt.show()\n"
   ],
   "metadata": {
    "colab": {
     "base_uri": "https://localhost:8080/",
     "height": 487
    },
    "id": "PbDO7J0Td-m8",
    "outputId": "07ba25e2-9697-45a0-8c62-e6b4e9dd2bac"
   }
  },
  {
   "cell_type": "code",
   "source": [
    "\n",
    "# Plot training and validation accuracy\n",
    "plt.figure(figsize=(10, 5))\n",
    "plt.title(\"Training and Validation Accuracy\")\n",
    "plt.plot(val_accuracies, label=\"val\")\n",
    "plt.plot(train_accuracies, label=\"train\")\n",
    "plt.xlabel(\"Epochs\")\n",
    "plt.ylabel(\"Accuracy\")\n",
    "plt.legend()\n",
    "plt.show()\n"
   ],
   "metadata": {
    "colab": {
     "base_uri": "https://localhost:8080/",
     "height": 487
    },
    "id": "P83KbT8Mm83T",
    "outputId": "eec7c128-3601-436c-afed-6fc382021b12"
   },
   "execution_count": 99,
   "outputs": [
    {
     "output_type": "display_data",
     "data": {
      "text/plain": [
       "<Figure size 1000x500 with 1 Axes>"
      ],
      "image/png": "[encoded data removed]"
     },
     "metadata": {}
    }
   ]
  },
  {
   "cell_type": "markdown",
   "source": [
    "# 7. evaluate on the test set"
   ],
   "metadata": {
    "collapsed": false,
    "id": "_pnqRHLxd-m8"
   }
  },
  {
   "cell_type": "code",
   "source": [
    "# Evaluation on test set\n",
    "model.eval()\n",
    "predictions = []\n",
    "true_labels = []\n",
    "with torch.no_grad():\n",
    "    for inputs, targets in test_loader:\n",
    "        outputs = model(inputs)\n",
    "        _, predicted = torch.max(outputs.data, 1)\n",
    "        predictions += list(predicted.numpy())\n",
    "        true_labels += list(targets.numpy())\n",
    "\n",
    "# Compute evaluation metrics\n",
    "print(confusion_matrix(true_labels, predictions))\n",
    "print(classification_report(true_labels, predictions, target_names=['ckd', 'notckd']))"
   ],
   "metadata": {
    "colab": {
     "base_uri": "https://localhost:8080/"
    },
    "id": "nKYI8Lqcnqb6",
    "outputId": "17d69787-5085-4f1f-ee3e-8e7a599a73b0"
   },
   "execution_count": 100,
   "outputs": [
    {
     "output_type": "stream",
     "name": "stdout",
     "text": [
      "[[37  2]\n",
      " [ 0 14]]\n",
      "              precision    recall  f1-score   support\n",
      "\n",
      "         ckd       1.00      0.95      0.97        39\n",
      "      notckd       0.88      1.00      0.93        14\n",
      "\n",
      "    accuracy                           0.96        53\n",
      "   macro avg       0.94      0.97      0.95        53\n",
      "weighted avg       0.97      0.96      0.96        53\n",
      "\n"
     ]
    }
   ]
  }
 ],
 "metadata": {
  "kernelspec": {
   "display_name": "Python 3",
   "language": "python",
   "name": "python3"
  },
  "language_info": {
   "codemirror_mode": {
    "name": "ipython",
    "version": 2
   },
   "file_extension": ".py",
   "mimetype": "text/x-python",
   "name": "python",
   "nbconvert_exporter": "python",
   "pygments_lexer": "ipython2",
   "version": "2.7.6"
  },
  "colab": {
   "provenance": []
  }
 },
 "nbformat": 4,
 "nbformat_minor": 0
}
